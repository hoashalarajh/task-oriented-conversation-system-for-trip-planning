{
 "cells": [
  {
   "cell_type": "markdown",
   "metadata": {},
   "source": [
    "## Task-oriented conversational system (Based on form filling method)"
   ]
  },
  {
   "cell_type": "markdown",
   "metadata": {},
   "source": [
    "### System for short-term trip planning"
   ]
  },
  {
   "cell_type": "markdown",
   "metadata": {},
   "source": [
    "#### This is a system initiated conversation - assumed that user can only give his data regarding to trip plans"
   ]
  },
  {
   "cell_type": "code",
   "execution_count": 36,
   "metadata": {},
   "outputs": [],
   "source": [
    "# importing dependencies\n",
    "from datetime import datetime, timedelta"
   ]
  },
  {
   "cell_type": "code",
   "execution_count": 30,
   "metadata": {},
   "outputs": [],
   "source": [
    "# function for questions asked by the system and user input is recorded\n",
    "def questioning():\n",
    "    user_responses = []\n",
    "    questions = [\"Where are you planning to go?\", \"What city are you leaving from?\", \"What date are you flying out?\"]\n",
    "    for q in questions:\n",
    "        print (q)\n",
    "        user_input = input()\n",
    "        print (user_input)\n",
    "        user_responses.append(user_input)\n",
    "    return (user_responses)"
   ]
  },
  {
   "cell_type": "code",
   "execution_count": 31,
   "metadata": {},
   "outputs": [],
   "source": [
    "# function for processing user responses to fill the form\n",
    "# output from the function will be in the format of [place, place_from, day_is, when_is]\n",
    "def form_filing(res):\n",
    "    # first part of form is about place planning to go\n",
    "    res1 = res[0]\n",
    "    res1 = res1.split(\" \")\n",
    "    # assuming that the last word of the sentence should be the place to go \n",
    "    # by observing several conversational interactions\n",
    "    place = res1[-1]\n",
    "\n",
    "    # second part of form is where leaving from\n",
    "    res2 = res[1]\n",
    "    res2 = res2.split(\" \")\n",
    "    # applying the above same logic here\n",
    "    # logic for handling user response with one word and more than a word\n",
    "    if len(res2) > 1:\n",
    "        # user provies the response with more than a word\n",
    "        place_from = res2[-1]\n",
    "    else:\n",
    "        # user provdies the response with one word\n",
    "        place_from = res2[0]\n",
    "\n",
    "    # third part of form is when leaving\n",
    "    res3 = res[2]\n",
    "    res3 = res3.split(\" \")\n",
    "    # get the last two words for date\n",
    "    # it might consist of information data such as this monday and next monday\n",
    "    leav_date = [res3[-2], res3[-1]]\n",
    "    # getting the day\n",
    "    day_is = leav_date[1]\n",
    "    # getting when is that day\n",
    "    when_is = leav_date[0]\n",
    "\n",
    "    # returning the fields of the form\n",
    "    return (place, place_from, day_is, when_is)"
   ]
  },
  {
   "cell_type": "code",
   "execution_count": 32,
   "metadata": {},
   "outputs": [],
   "source": [
    "def get_current_date_and_day():\n",
    "    current_datetime = datetime.now()\n",
    "    #current_date = current_datetime.strftime(\"%Y-%m-%d\")\n",
    "    current_day = current_datetime.strftime(\"%A\")\n",
    "    return current_day, current_datetime"
   ]
  },
  {
   "cell_type": "code",
   "execution_count": 38,
   "metadata": {},
   "outputs": [],
   "source": [
    "# function to extract the exact date that the user is referring to\n",
    "def get_date(fields):\n",
    "    exact_day = fields[-2]\n",
    "    det_factr = fields[-1]\n",
    "\n",
    "    # distance approach\n",
    "    # defining a referecne day list\n",
    "    ref_days = [\"monday\",\"tuesday\",\"wednesday\",\"thursday\",\"friday\",\"saturday\",\"sunday\"]\n",
    "\n",
    "    curr_day, curr_date = get_current_date_and_day()\n",
    "     # calculating the distnce between days\n",
    "    dist = ref_days.index(exact_day.lower()) - ref_days.index(curr_day.lower())\n",
    "\n",
    "    if det_factr.lower() == \"this\":\n",
    "        # handling the response for this week scenario - directly obtaining\n",
    "        if dist >= 0:\n",
    "            wanted_date = (curr_date+timedelta(dist)).strftime(\"%Y-%m-%d\")\n",
    "        else:\n",
    "            wanted_date = \"Are you sure about the day, it seems like the day already passed, Please make sure the date you are saying is correct!!\"\n",
    "            \n",
    "    elif det_factr.lower() == \"next\":\n",
    "        # hadnling the response for next week scenario - adding extra seven days\n",
    "        wanted_date = (curr_date+timedelta(dist+7)).strftime(\"%Y-%m-%d\")\n",
    "    \n",
    "    # returning the wanted_date\n",
    "    return wanted_date "
   ]
  },
  {
   "cell_type": "code",
   "execution_count": 34,
   "metadata": {},
   "outputs": [],
   "source": [
    "# function for system's overall response\n",
    "def overall_conv(user_responses):\n",
    "    fields = form_filing(user_responses)\n",
    "    wanted_date = get_date(fields)\n",
    "    if len(wanted_date.split()) > 1:\n",
    "        print (wanted_date)\n",
    "    else:\n",
    "        ref_month = [\"January\", \"February\", \"March\", \"April\", \"May\", \"June\", \"July\", \"August\", \"September\", \"October\", \"November\", \"December\"]\n",
    "        wanted_date = wanted_date.split(\"-\")\n",
    "        dt = wanted_date[-1]\n",
    "        month = ref_month[(int(wanted_date[-2]) - 1)]\n",
    "        year = wanted_date[-3]\n",
    "        print (f\"This will be fun, You go from {fields[0]} to {fields[1]} on {month} {dt}th, {year}\")"
   ]
  },
  {
   "cell_type": "markdown",
   "metadata": {},
   "source": [
    "### Trip planning conversation system validation"
   ]
  },
  {
   "cell_type": "markdown",
   "metadata": {},
   "source": [
    "#### Next week plan Demo"
   ]
  },
  {
   "cell_type": "code",
   "execution_count": 35,
   "metadata": {},
   "outputs": [
    {
     "name": "stdout",
     "output_type": "stream",
     "text": [
      "Where are you planning to go?\n",
      "i am planning to go kandy\n",
      "What city are you leaving from?\n",
      "leaving from trincomalee\n",
      "What date are you flying out?\n",
      "i am planning to fly out next saturday\n",
      "This will be fun, You go from kandy to trincomalee on December 16th, 2023\n"
     ]
    }
   ],
   "source": [
    "# conversational agent interacting with the user\n",
    "##############################################\n",
    "user_responses = questioning()\n",
    "overall_conv(user_responses)\n",
    "##############################################"
   ]
  },
  {
   "cell_type": "markdown",
   "metadata": {},
   "source": [
    "#### This week plan demo"
   ]
  },
  {
   "cell_type": "code",
   "execution_count": 37,
   "metadata": {},
   "outputs": [
    {
     "name": "stdout",
     "output_type": "stream",
     "text": [
      "Where are you planning to go?\n",
      "planning to go to jaffna\n",
      "What city are you leaving from?\n",
      "from trincomalee\n",
      "What date are you flying out?\n",
      "definitely this sunday\n",
      "This will be fun, You go from jaffna to trincomalee on December 10th, 2023\n"
     ]
    }
   ],
   "source": [
    "# conversational agent interacting with the user\n",
    "##############################################\n",
    "user_responses = questioning()\n",
    "overall_conv(user_responses)\n",
    "##############################################"
   ]
  },
  {
   "cell_type": "markdown",
   "metadata": {},
   "source": [
    "#### Error in saying the date - System is aware of this and can remind user to check for correct date"
   ]
  },
  {
   "cell_type": "code",
   "execution_count": 39,
   "metadata": {},
   "outputs": [
    {
     "name": "stdout",
     "output_type": "stream",
     "text": [
      "Where are you planning to go?\n",
      "to gampaha\n",
      "What city are you leaving from?\n",
      "leaving from jaffna\n",
      "What date are you flying out?\n",
      "on this monday\n",
      "Are you sure about the day, it seems like the day already passed, Please make sure the date you are saying is correct!!\n"
     ]
    }
   ],
   "source": [
    "# conversational agent interacting with the user\n",
    "##############################################\n",
    "user_responses = questioning()\n",
    "overall_conv(user_responses)\n",
    "##############################################"
   ]
  },
  {
   "cell_type": "code",
   "execution_count": 44,
   "metadata": {},
   "outputs": [
    {
     "name": "stdout",
     "output_type": "stream",
     "text": [
      "2023-12-09\n",
      "Today is a Saturday\n"
     ]
    }
   ],
   "source": [
    "# registering the todays date to understand the context\n",
    "print (datetime.now().strftime(\"%Y-%m-%d\"))\n",
    "print (\"Today is a Saturday\")"
   ]
  }
 ],
 "metadata": {
  "kernelspec": {
   "display_name": "Python 3",
   "language": "python",
   "name": "python3"
  },
  "language_info": {
   "codemirror_mode": {
    "name": "ipython",
    "version": 3
   },
   "file_extension": ".py",
   "mimetype": "text/x-python",
   "name": "python",
   "nbconvert_exporter": "python",
   "pygments_lexer": "ipython3",
   "version": "3.10.9"
  }
 },
 "nbformat": 4,
 "nbformat_minor": 2
}
